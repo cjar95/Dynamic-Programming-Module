{
 "cells": [
  {
   "cell_type": "markdown",
   "id": "complex-ideal",
   "metadata": {},
   "source": [
    "# Lab 7: Dynamic Programming"
   ]
  },
  {
   "cell_type": "markdown",
   "id": "dynamic-hearing",
   "metadata": {},
   "source": [
    "Lab associated with Module 7: Dynamic Programming"
   ]
  },
  {
   "cell_type": "markdown",
   "id": "reliable-thomson",
   "metadata": {},
   "source": [
    "***"
   ]
  },
  {
   "cell_type": "code",
   "execution_count": 1,
   "id": "unknown-effort",
   "metadata": {},
   "outputs": [
    {
     "name": "stderr",
     "output_type": "stream",
     "text": [
      "C:\\Users\\jarac\\AppData\\Local\\Temp\\ipykernel_10768\\1945220536.py:2: DeprecationWarning: Importing display from IPython.core.display is deprecated since IPython 7.14, please import from IPython display\n",
      "  from IPython.core.display import display, HTML\n"
     ]
    },
    {
     "data": {
      "text/html": [
       "<style>.container { width:95% !important; }</style>"
      ],
      "text/plain": [
       "<IPython.core.display.HTML object>"
      ]
     },
     "metadata": {},
     "output_type": "display_data"
    }
   ],
   "source": [
    "# The following lines are used to increase the width of cells to utilize more space on the screen \n",
    "from IPython.core.display import display, HTML\n",
    "display(HTML(\"<style>.container { width:95% !important; }</style>\"))"
   ]
  },
  {
   "cell_type": "markdown",
   "id": "civilian-racing",
   "metadata": {},
   "source": [
    "***"
   ]
  },
  {
   "cell_type": "markdown",
   "id": "moving-violence",
   "metadata": {},
   "source": [
    "### Section 0: Imports"
   ]
  },
  {
   "cell_type": "code",
   "execution_count": 2,
   "id": "familiar-letters",
   "metadata": {},
   "outputs": [],
   "source": [
    "import numpy as np"
   ]
  },
  {
   "cell_type": "code",
   "execution_count": 3,
   "id": "recovered-literacy",
   "metadata": {},
   "outputs": [],
   "source": [
    "import math"
   ]
  },
  {
   "cell_type": "code",
   "execution_count": 4,
   "id": "multiple-chair",
   "metadata": {},
   "outputs": [],
   "source": [
    "from IPython.display import Image\n",
    "from graphviz import Digraph"
   ]
  },
  {
   "cell_type": "markdown",
   "id": "hungarian-sentence",
   "metadata": {},
   "source": [
    "Details of Digraph package: https://h1ros.github.io/posts/introduction-to-graphviz-in-jupyter-notebook/"
   ]
  },
  {
   "cell_type": "markdown",
   "id": "anonymous-sphere",
   "metadata": {},
   "source": [
    "***"
   ]
  },
  {
   "cell_type": "markdown",
   "id": "fiscal-video",
   "metadata": {},
   "source": [
    "### <font color='red'> Section 1: Write the code for finding the Longest Common Sub-sequence. Make sure you output the Matrix C and the longest sub-sequence. Test your code with various use-cases. </font>"
   ]
  },
  {
   "cell_type": "code",
   "execution_count": 92,
   "id": "developed-pharmacy",
   "metadata": {},
   "outputs": [],
   "source": [
    "### TODO ###\n",
    "### Good Luck ###\n",
    "\n",
    "#NEED TO PRINT LONGEST SUBSEQUENCE \n",
    "\n",
    "def lowestCS(x, y):\n",
    "    #Finds the lengths of the x and y sequences\n",
    "    a = len(x)\n",
    "    b = len(y)\n",
    "\n",
    "    #Creates the matrix and populates it as all zeros\n",
    "    matrix = np.zeros((a+1, b+1))\n",
    "    \n",
    "    for i in range(a+1):\n",
    "        for j in range (b+1):\n",
    "            if i == 0 or j ==0:\n",
    "                matrix[i][j] = 0\n",
    "            #case 1 \n",
    "            elif x[i-1] == y[j-1]:\n",
    "                matrix[i][j] = matrix[i-1][j-1]+1\n",
    "            #case 2\n",
    "            else:\n",
    "                matrix[i][j] = max(matrix[i-1][j], matrix[i][j-1])\n",
    "    \n",
    "    #String variable for the LCS \n",
    "    lcs = \"\"\n",
    "    i = a\n",
    "    j = b\n",
    "    \n",
    "    while i >0 and j>0:\n",
    "        #if the character being explored in x[] and y are the same, then it belongs in the LCS\n",
    "        if x[i-1] == y[j-1]:\n",
    "            lcs += x[i-1]\n",
    "            i -= 1\n",
    "            j -= 1\n",
    "        \n",
    "        #if the character being explored is not the same then find the max of the 2 and go in the larger number direction\n",
    "        elif matrix[i-1][j] > matrix[i][j-1]:\n",
    "            i -= 1\n",
    "        else: j -= 1\n",
    "    #The matrix is traversed bottom up \n",
    "    #LCS will be the reverse\n",
    "    lcs = lcs[:: -1]\n",
    "    #Write up of both sequences and the lcs \n",
    "    print (\"LCS of \" + x + \" and \" + y + \" is \" + lcs)\n",
    "                      \n",
    "    #Prints the matrix            \n",
    "    print(matrix)\n",
    "    #returns the Longest common sub sequence length \n",
    "    return matrix[a][b]\n",
    "\n",
    "    \n"
   ]
  },
  {
   "cell_type": "markdown",
   "id": "fcc9ac5b",
   "metadata": {},
   "source": [
    "# Lowest Common Subsequence Tests"
   ]
  },
  {
   "cell_type": "code",
   "execution_count": 93,
   "id": "dc13d311",
   "metadata": {},
   "outputs": [],
   "source": [
    "x = \"ACGGA\"\n",
    "y = \"ACTG\""
   ]
  },
  {
   "cell_type": "code",
   "execution_count": 94,
   "id": "1551a55a",
   "metadata": {},
   "outputs": [
    {
     "name": "stdout",
     "output_type": "stream",
     "text": [
      "LCS of ACGGA and ACTG is ACG\n",
      "[[0. 0. 0. 0. 0.]\n",
      " [0. 1. 1. 1. 1.]\n",
      " [0. 1. 2. 2. 2.]\n",
      " [0. 1. 2. 2. 3.]\n",
      " [0. 1. 2. 2. 3.]\n",
      " [0. 1. 2. 2. 3.]]\n"
     ]
    },
    {
     "data": {
      "text/plain": [
       "3.0"
      ]
     },
     "execution_count": 94,
     "metadata": {},
     "output_type": "execute_result"
    }
   ],
   "source": [
    "lowestCS(x,y)"
   ]
  },
  {
   "cell_type": "code",
   "execution_count": 97,
   "id": "ea5f2b4e",
   "metadata": {},
   "outputs": [],
   "source": [
    "x2= \"BACGFDE\"\n",
    "y2= \"BACFD\""
   ]
  },
  {
   "cell_type": "code",
   "execution_count": 98,
   "id": "57bab62f",
   "metadata": {},
   "outputs": [
    {
     "name": "stdout",
     "output_type": "stream",
     "text": [
      "LCS of BACGFDE and BACFD is BACFD\n",
      "[[0. 0. 0. 0. 0. 0.]\n",
      " [0. 1. 1. 1. 1. 1.]\n",
      " [0. 1. 2. 2. 2. 2.]\n",
      " [0. 1. 2. 3. 3. 3.]\n",
      " [0. 1. 2. 3. 3. 3.]\n",
      " [0. 1. 2. 3. 4. 4.]\n",
      " [0. 1. 2. 3. 4. 5.]\n",
      " [0. 1. 2. 3. 4. 5.]]\n"
     ]
    },
    {
     "data": {
      "text/plain": [
       "5.0"
      ]
     },
     "execution_count": 98,
     "metadata": {},
     "output_type": "execute_result"
    }
   ],
   "source": [
    "lowestCS(x2,y2)"
   ]
  },
  {
   "cell_type": "code",
   "execution_count": 99,
   "id": "3896f41a",
   "metadata": {},
   "outputs": [],
   "source": [
    "x3 = \"CAMI\"\n",
    "y3 = \"ANABELLE\""
   ]
  },
  {
   "cell_type": "code",
   "execution_count": 100,
   "id": "983f652d",
   "metadata": {},
   "outputs": [
    {
     "name": "stdout",
     "output_type": "stream",
     "text": [
      "LCS of CAMI and ANABELLE is A\n",
      "[[0. 0. 0. 0. 0. 0. 0. 0. 0.]\n",
      " [0. 0. 0. 0. 0. 0. 0. 0. 0.]\n",
      " [0. 1. 1. 1. 1. 1. 1. 1. 1.]\n",
      " [0. 1. 1. 1. 1. 1. 1. 1. 1.]\n",
      " [0. 1. 1. 1. 1. 1. 1. 1. 1.]]\n"
     ]
    },
    {
     "data": {
      "text/plain": [
       "1.0"
      ]
     },
     "execution_count": 100,
     "metadata": {},
     "output_type": "execute_result"
    }
   ],
   "source": [
    "lowestCS(x3, y3)"
   ]
  },
  {
   "cell_type": "code",
   "execution_count": 101,
   "id": "108e8543",
   "metadata": {},
   "outputs": [],
   "source": [
    "x4 = \"SUPERCALIFRAGALISTIC\"\n",
    "y4 = \"SUPER\""
   ]
  },
  {
   "cell_type": "code",
   "execution_count": 102,
   "id": "b7779e73",
   "metadata": {},
   "outputs": [
    {
     "name": "stdout",
     "output_type": "stream",
     "text": [
      "LCS of SUPERCALIFRAGALISTIC and SUPER is SUPER\n",
      "[[0. 0. 0. 0. 0. 0.]\n",
      " [0. 1. 1. 1. 1. 1.]\n",
      " [0. 1. 2. 2. 2. 2.]\n",
      " [0. 1. 2. 3. 3. 3.]\n",
      " [0. 1. 2. 3. 4. 4.]\n",
      " [0. 1. 2. 3. 4. 5.]\n",
      " [0. 1. 2. 3. 4. 5.]\n",
      " [0. 1. 2. 3. 4. 5.]\n",
      " [0. 1. 2. 3. 4. 5.]\n",
      " [0. 1. 2. 3. 4. 5.]\n",
      " [0. 1. 2. 3. 4. 5.]\n",
      " [0. 1. 2. 3. 4. 5.]\n",
      " [0. 1. 2. 3. 4. 5.]\n",
      " [0. 1. 2. 3. 4. 5.]\n",
      " [0. 1. 2. 3. 4. 5.]\n",
      " [0. 1. 2. 3. 4. 5.]\n",
      " [0. 1. 2. 3. 4. 5.]\n",
      " [0. 1. 2. 3. 4. 5.]\n",
      " [0. 1. 2. 3. 4. 5.]\n",
      " [0. 1. 2. 3. 4. 5.]\n",
      " [0. 1. 2. 3. 4. 5.]]\n"
     ]
    },
    {
     "data": {
      "text/plain": [
       "5.0"
      ]
     },
     "execution_count": 102,
     "metadata": {},
     "output_type": "execute_result"
    }
   ],
   "source": [
    "lowestCS(x4, y4)"
   ]
  },
  {
   "cell_type": "code",
   "execution_count": 103,
   "id": "5bdf1884",
   "metadata": {},
   "outputs": [],
   "source": [
    "#2 Subsequences with no overlap\n",
    "x5 = \"ABCDEFGH\"\n",
    "y5 = \"IJKLMNO\""
   ]
  },
  {
   "cell_type": "code",
   "execution_count": 104,
   "id": "9c55a4fb",
   "metadata": {},
   "outputs": [
    {
     "name": "stdout",
     "output_type": "stream",
     "text": [
      "LCS of ABCDEFGH and IJKLMNO is \n",
      "[[0. 0. 0. 0. 0. 0. 0. 0.]\n",
      " [0. 0. 0. 0. 0. 0. 0. 0.]\n",
      " [0. 0. 0. 0. 0. 0. 0. 0.]\n",
      " [0. 0. 0. 0. 0. 0. 0. 0.]\n",
      " [0. 0. 0. 0. 0. 0. 0. 0.]\n",
      " [0. 0. 0. 0. 0. 0. 0. 0.]\n",
      " [0. 0. 0. 0. 0. 0. 0. 0.]\n",
      " [0. 0. 0. 0. 0. 0. 0. 0.]\n",
      " [0. 0. 0. 0. 0. 0. 0. 0.]]\n"
     ]
    },
    {
     "data": {
      "text/plain": [
       "0.0"
      ]
     },
     "execution_count": 104,
     "metadata": {},
     "output_type": "execute_result"
    }
   ],
   "source": [
    "lowestCS(x5, y5)"
   ]
  },
  {
   "cell_type": "code",
   "execution_count": 271,
   "id": "35bdbe58",
   "metadata": {},
   "outputs": [],
   "source": [
    "#2 Subsequences with all overlap\n",
    "x6 = \"CAMILA\"\n",
    "y6 = \"CAMILAJ\""
   ]
  },
  {
   "cell_type": "code",
   "execution_count": 272,
   "id": "f123e93d",
   "metadata": {},
   "outputs": [
    {
     "name": "stdout",
     "output_type": "stream",
     "text": [
      "LCS of CAMILA and CAMILAJ is CAMILA\n",
      "[[0. 0. 0. 0. 0. 0. 0. 0.]\n",
      " [0. 1. 1. 1. 1. 1. 1. 1.]\n",
      " [0. 1. 2. 2. 2. 2. 2. 2.]\n",
      " [0. 1. 2. 3. 3. 3. 3. 3.]\n",
      " [0. 1. 2. 3. 4. 4. 4. 4.]\n",
      " [0. 1. 2. 3. 4. 5. 5. 5.]\n",
      " [0. 1. 2. 3. 4. 5. 6. 6.]]\n"
     ]
    },
    {
     "data": {
      "text/plain": [
       "6.0"
      ]
     },
     "execution_count": 272,
     "metadata": {},
     "output_type": "execute_result"
    }
   ],
   "source": [
    "lowestCS(x6, y6)"
   ]
  },
  {
   "cell_type": "markdown",
   "id": "developed-crest",
   "metadata": {},
   "source": [
    "***"
   ]
  },
  {
   "cell_type": "markdown",
   "id": "subject-annual",
   "metadata": {},
   "source": [
    "***"
   ]
  },
  {
   "cell_type": "markdown",
   "id": "enormous-bishop",
   "metadata": {},
   "source": [
    "### Section 2: Unbounded Knapsack Problem"
   ]
  },
  {
   "cell_type": "markdown",
   "id": "grand-decision",
   "metadata": {},
   "source": [
    "Let us build a solution to unbounded Knapsack problem."
   ]
  },
  {
   "cell_type": "code",
   "execution_count": 247,
   "id": "connected-sustainability",
   "metadata": {},
   "outputs": [],
   "source": [
    "#Unlimited item picks within the max weight allowed \n",
    "def unboundedKnapsack(W, n, wt, vals, names):\n",
    " \n",
    "    K = [0 for i in range(W + 1)]\n",
    "    ITEMS = [[] for i in range(W + 1)]\n",
    " \n",
    "    for x in range(1, W + 1):\n",
    "        K[x] = 0\n",
    "        for i in range(1, n):\n",
    "            \n",
    "            prev_k = K[x]\n",
    "            \n",
    "            if (wt[i] <= x):\n",
    "                K[x] = max(K[x], K[x - wt[i]] + vals[i])\n",
    "                \n",
    "            if K[x] != prev_k:\n",
    "                ITEMS[x] = ITEMS[x - wt[i]] + names[i]\n",
    "    print(\"The maximum value aquired is\")\n",
    "    print(K[W])           \n",
    "    return K[W], ITEMS[W]"
   ]
  },
  {
   "cell_type": "code",
   "execution_count": 248,
   "id": "tropical-catalyst",
   "metadata": {},
   "outputs": [
    {
     "name": "stdout",
     "output_type": "stream",
     "text": [
      "We have 3 items\n"
     ]
    }
   ],
   "source": [
    "W = 4\n",
    "wt = [1, 2, 3]\n",
    "vals = [1, 4, 6]\n",
    "names = [[\"Turtle\"], [\"Globe\"], [\"WaterMelon\"]]\n",
    "\n",
    "n = len(vals)\n",
    "\n",
    "print('We have {} items'.format(n))                "
   ]
  },
  {
   "cell_type": "code",
   "execution_count": 244,
   "id": "noble-wayne",
   "metadata": {},
   "outputs": [
    {
     "name": "stdout",
     "output_type": "stream",
     "text": [
      "The maximum value aquired is\n",
      "8\n"
     ]
    }
   ],
   "source": [
    "K, ITEMS = unboundedKnapsack(W, n, wt, vals, names)"
   ]
  },
  {
   "cell_type": "code",
   "execution_count": 245,
   "id": "english-property",
   "metadata": {},
   "outputs": [
    {
     "data": {
      "text/plain": [
       "'Globe'"
      ]
     },
     "execution_count": 245,
     "metadata": {},
     "output_type": "execute_result"
    }
   ],
   "source": [
    "ITEMS"
   ]
  },
  {
   "cell_type": "markdown",
   "id": "67585a95",
   "metadata": {},
   "source": [
    "# Unbounded Knapsack Test Cases"
   ]
  },
  {
   "cell_type": "code",
   "execution_count": 234,
   "id": "a345c4de",
   "metadata": {},
   "outputs": [
    {
     "name": "stdout",
     "output_type": "stream",
     "text": [
      "We have 6 items\n"
     ]
    }
   ],
   "source": [
    "W2 = 25\n",
    "wt2 = [1, 2, 3, 8, 12, 14]\n",
    "vals2 = [1, 4, 6, 7, 9, 15]\n",
    "names2 = [[\"Apple\"], [\"Pear\"], [\"Banana\"], [\"Kiwi\"], [\"Strawberry\"], [\"Dragonfruit\"]]\n",
    "\n",
    "n2 = len(vals2)\n",
    "\n",
    "print('We have {} items'.format(n2))   "
   ]
  },
  {
   "cell_type": "code",
   "execution_count": 235,
   "id": "3e122b9d",
   "metadata": {},
   "outputs": [
    {
     "name": "stdout",
     "output_type": "stream",
     "text": [
      "The maximum value aquired is\n",
      "50\n"
     ]
    }
   ],
   "source": [
    "K, ITEMS = unboundedKnapsack(W2, n2, wt2, vals2, names2)"
   ]
  },
  {
   "cell_type": "code",
   "execution_count": 149,
   "id": "a6a9968a",
   "metadata": {},
   "outputs": [
    {
     "data": {
      "text/plain": [
       "['Banana',\n",
       " 'Pear',\n",
       " 'Pear',\n",
       " 'Pear',\n",
       " 'Pear',\n",
       " 'Pear',\n",
       " 'Pear',\n",
       " 'Pear',\n",
       " 'Pear',\n",
       " 'Pear',\n",
       " 'Pear',\n",
       " 'Pear']"
      ]
     },
     "execution_count": 149,
     "metadata": {},
     "output_type": "execute_result"
    }
   ],
   "source": [
    "ITEMS"
   ]
  },
  {
   "cell_type": "code",
   "execution_count": 236,
   "id": "4d6f4e33",
   "metadata": {},
   "outputs": [
    {
     "name": "stdout",
     "output_type": "stream",
     "text": [
      "We have 6 items\n"
     ]
    }
   ],
   "source": [
    "W3 = 250\n",
    "wt3 = [3, 6, 9, 12, 15, 18]\n",
    "vals3 = [1, 4, 6, 7, 9, 15]\n",
    "names3 = [[\"Tiger\"], [\"Penguin\"], [\"Bear\"], [\"Kangaroo\"], [\"Snake\"], [\"Dragon\"]]\n",
    "\n",
    "n3 = len(vals3)\n",
    "\n",
    "print('We have {} items'.format(n3))   "
   ]
  },
  {
   "cell_type": "code",
   "execution_count": 237,
   "id": "e843076d",
   "metadata": {},
   "outputs": [
    {
     "name": "stdout",
     "output_type": "stream",
     "text": [
      "The maximum value aquired is\n",
      "205\n"
     ]
    }
   ],
   "source": [
    "K, ITEMS = unboundedKnapsack(W3, n3, wt3, vals3, names3)"
   ]
  },
  {
   "cell_type": "code",
   "execution_count": 238,
   "id": "f1d9ecbd",
   "metadata": {
    "scrolled": true
   },
   "outputs": [
    {
     "data": {
      "text/plain": [
       "['Dragon',\n",
       " 'Dragon',\n",
       " 'Dragon',\n",
       " 'Dragon',\n",
       " 'Dragon',\n",
       " 'Dragon',\n",
       " 'Dragon',\n",
       " 'Dragon',\n",
       " 'Dragon',\n",
       " 'Dragon',\n",
       " 'Dragon',\n",
       " 'Dragon',\n",
       " 'Dragon',\n",
       " 'Bear',\n",
       " 'Penguin']"
      ]
     },
     "execution_count": 238,
     "metadata": {},
     "output_type": "execute_result"
    }
   ],
   "source": [
    "ITEMS"
   ]
  },
  {
   "cell_type": "code",
   "execution_count": 252,
   "id": "fdc64d0e",
   "metadata": {},
   "outputs": [
    {
     "name": "stdout",
     "output_type": "stream",
     "text": [
      "We have 6 items\n"
     ]
    }
   ],
   "source": [
    "W4 = 70\n",
    "wt4 = [2, 4, 6, 18, 10, 12]\n",
    "vals4 = [-3, 16, 9, -2, 8, 18]\n",
    "names4 = [[\"Eggs\"], [\"Chocolate\"], [\"PeanutButter\"], [\"Carrots\"], [\"Steak\"], [\"Milk\"]]\n",
    "\n",
    "n4 = len(vals4)\n",
    "\n",
    "print('We have {} items'.format(n4))  "
   ]
  },
  {
   "cell_type": "code",
   "execution_count": 253,
   "id": "0f2a7ffb",
   "metadata": {},
   "outputs": [
    {
     "name": "stdout",
     "output_type": "stream",
     "text": [
      "The maximum value aquired is\n",
      "272\n"
     ]
    }
   ],
   "source": [
    "K, ITEMS = unboundedKnapsack(W4, n4, wt4, vals4, names4)"
   ]
  },
  {
   "cell_type": "code",
   "execution_count": 254,
   "id": "4baa4bf3",
   "metadata": {},
   "outputs": [
    {
     "data": {
      "text/plain": [
       "['Chocolate',\n",
       " 'Chocolate',\n",
       " 'Chocolate',\n",
       " 'Chocolate',\n",
       " 'Chocolate',\n",
       " 'Chocolate',\n",
       " 'Chocolate',\n",
       " 'Chocolate',\n",
       " 'Chocolate',\n",
       " 'Chocolate',\n",
       " 'Chocolate',\n",
       " 'Chocolate',\n",
       " 'Chocolate',\n",
       " 'Chocolate',\n",
       " 'Chocolate',\n",
       " 'Chocolate',\n",
       " 'Chocolate']"
      ]
     },
     "execution_count": 254,
     "metadata": {},
     "output_type": "execute_result"
    }
   ],
   "source": [
    "ITEMS"
   ]
  },
  {
   "cell_type": "code",
   "execution_count": 258,
   "id": "fbef8518",
   "metadata": {},
   "outputs": [
    {
     "name": "stdout",
     "output_type": "stream",
     "text": [
      "We have 6 items\n"
     ]
    }
   ],
   "source": [
    "W5 = 30\n",
    "wt5 = [2, 4, 6, 8, 10, 12]\n",
    "vals5 = [-3, -16, 9, -2, -8, -18]\n",
    "names5 = [[\"Car\"], [\"Plane\"], [\"Train\"], [\"Boat\"], [\"Scooter\"], [\"Skateboard\"]]\n",
    "\n",
    "n5 = len(vals5)\n",
    "\n",
    "print('We have {} items'.format(n5))  "
   ]
  },
  {
   "cell_type": "code",
   "execution_count": 259,
   "id": "1c31947d",
   "metadata": {},
   "outputs": [
    {
     "name": "stdout",
     "output_type": "stream",
     "text": [
      "The maximum value aquired is\n",
      "45\n"
     ]
    }
   ],
   "source": [
    "K, ITEMS = unboundedKnapsack(W5, n5, wt5, vals5, names5)"
   ]
  },
  {
   "cell_type": "code",
   "execution_count": 260,
   "id": "677e0b30",
   "metadata": {},
   "outputs": [
    {
     "data": {
      "text/plain": [
       "['Train', 'Train', 'Train', 'Train', 'Train']"
      ]
     },
     "execution_count": 260,
     "metadata": {},
     "output_type": "execute_result"
    }
   ],
   "source": [
    "ITEMS"
   ]
  },
  {
   "cell_type": "code",
   "execution_count": null,
   "id": "moderate-orbit",
   "metadata": {},
   "outputs": [],
   "source": [
    "# ------------------------------\n",
    "# Code Reflections\n",
    "# ------------------------------\n",
    "'''\n",
    "The idea is to optimally fill a bag of a given capacity with objects that have individual size (weight) and benefit (value)\n",
    "The unbounded knapsack allows repetition of items until reaching the maximum weight threshold. \n",
    "The provided method takes in the W capacity, n number of items, wt weight of those given items, vals the individual value of each item, and the names of the items.\n",
    "As is evident in the test cases above repetition of items occurs if it is in the best interest of reaching the maximum value.\n",
    "I added an extra print to establish the maximum value acquired by the implementation.\n",
    "I also added test cases with negative values.\n",
    "\n",
    "'''\n"
   ]
  },
  {
   "cell_type": "markdown",
   "id": "divine-glossary",
   "metadata": {},
   "source": [
    "***"
   ]
  },
  {
   "cell_type": "markdown",
   "id": "induced-papua",
   "metadata": {},
   "source": [
    "### <font color='red'> Section 3: In the earlier activity, you analysed the code for unbounded knapsack. Based on the algorithm discussed in this section, implement an solution to do 0/1 Knapsack. Make sure you test your algorithms for various test-cases. </font>"
   ]
  },
  {
   "cell_type": "code",
   "execution_count": 266,
   "id": "floral-reggae",
   "metadata": {},
   "outputs": [],
   "source": [
    "#### TODO ####\n",
    "### Good Luck ###\n",
    "\n",
    "def zeroOneKnap(W, n, wt, vals):\n",
    "    K = [[0 for x in range(W + 1)] for x in range(n + 1)]\n",
    "    # Build table K[][] in bottom up manner\n",
    "    for i in range(n + 1):\n",
    "        for w in range(W + 1):\n",
    "            if i == 0 or w == 0:\n",
    "                K[i][w] = 0\n",
    "            elif wt[i-1] <= w:\n",
    "                #case 2\n",
    "                K[i][w] = max(vals[i-1]+ K[i-1][w-wt[i-1]], K[i-1][w])\n",
    "            else:\n",
    "                K[i][w] = K[i-1][w]\n",
    "                \n",
    "    print(\"The maximum possible value for the knapsack acquired is \")\n",
    "    return K[n][W]\n"
   ]
  },
  {
   "cell_type": "markdown",
   "id": "55e80adc",
   "metadata": {},
   "source": [
    "# 0/1 Knapsack Test Cases"
   ]
  },
  {
   "cell_type": "markdown",
   "id": "asian-garbage",
   "metadata": {},
   "source": [
    "Class Room Test-case"
   ]
  },
  {
   "cell_type": "code",
   "execution_count": 267,
   "id": "earned-sierra",
   "metadata": {},
   "outputs": [
    {
     "name": "stdout",
     "output_type": "stream",
     "text": [
      "We have 5 items\n"
     ]
    }
   ],
   "source": [
    "W = 10\n",
    "V = [20, 8, 14, 13, 35]\n",
    "wt = [6, 2, 4, 3, 11]\n",
    "\n",
    "n = len(V)\n",
    "\n",
    "print('We have {} items'.format(n))   "
   ]
  },
  {
   "cell_type": "code",
   "execution_count": 268,
   "id": "periodic-absolute",
   "metadata": {},
   "outputs": [
    {
     "name": "stdout",
     "output_type": "stream",
     "text": [
      "The maximum possible value for the knapsack acquired is \n"
     ]
    },
    {
     "data": {
      "text/plain": [
       "35"
      ]
     },
     "execution_count": 268,
     "metadata": {},
     "output_type": "execute_result"
    }
   ],
   "source": [
    "zeroOneKnap(W, n, wt, V)"
   ]
  },
  {
   "cell_type": "code",
   "execution_count": 264,
   "id": "79fe6333",
   "metadata": {},
   "outputs": [
    {
     "name": "stdout",
     "output_type": "stream",
     "text": [
      "We have 3 items\n"
     ]
    }
   ],
   "source": [
    "W2 = 50\n",
    "wt2 = [10, 20, 30]\n",
    "vals2 = [60, 100, 120]\n",
    "\n",
    "n2 = len(vals2)\n",
    "\n",
    "print('We have {} items'.format(n2))   "
   ]
  },
  {
   "cell_type": "code",
   "execution_count": 265,
   "id": "69150da1",
   "metadata": {},
   "outputs": [
    {
     "name": "stdout",
     "output_type": "stream",
     "text": [
      "The maximum possible value acquired is \n"
     ]
    },
    {
     "data": {
      "text/plain": [
       "220"
      ]
     },
     "execution_count": 265,
     "metadata": {},
     "output_type": "execute_result"
    }
   ],
   "source": [
    "zeroOneKnap(W2, n2, wt2, vals2)"
   ]
  },
  {
   "cell_type": "code",
   "execution_count": 211,
   "id": "6b68a9d6",
   "metadata": {},
   "outputs": [
    {
     "name": "stdout",
     "output_type": "stream",
     "text": [
      "We have 3 items\n"
     ]
    }
   ],
   "source": [
    "W3 = 20\n",
    "wt3 = [5, 10, 15]\n",
    "vals3 = [5, 20, 15]\n",
    "\n",
    "n3 = len(vals3)\n",
    "print('We have {} items'.format(n3))   "
   ]
  },
  {
   "cell_type": "code",
   "execution_count": 212,
   "id": "4cdde9d4",
   "metadata": {},
   "outputs": [
    {
     "name": "stdout",
     "output_type": "stream",
     "text": [
      "The maximum possible value acquired is \n"
     ]
    },
    {
     "data": {
      "text/plain": [
       "25"
      ]
     },
     "execution_count": 212,
     "metadata": {},
     "output_type": "execute_result"
    }
   ],
   "source": [
    "zeroOneKnap(W3, n3, wt3, vals3)"
   ]
  },
  {
   "cell_type": "code",
   "execution_count": 207,
   "id": "22acc9da",
   "metadata": {},
   "outputs": [
    {
     "name": "stdout",
     "output_type": "stream",
     "text": [
      "We have 6 items\n"
     ]
    }
   ],
   "source": [
    "W4 = 70\n",
    "wt4 = [2, 4, 6, 18, 10, 12]\n",
    "vals4 = [-3, 16, 9, -2, 8, 18]\n",
    "\n",
    "n4 = len(vals4)\n",
    "print('We have {} items'.format(n4))   "
   ]
  },
  {
   "cell_type": "code",
   "execution_count": 208,
   "id": "3e9f5a40",
   "metadata": {},
   "outputs": [
    {
     "name": "stdout",
     "output_type": "stream",
     "text": [
      "The maximum possible value acquired is \n"
     ]
    },
    {
     "data": {
      "text/plain": [
       "51"
      ]
     },
     "execution_count": 208,
     "metadata": {},
     "output_type": "execute_result"
    }
   ],
   "source": [
    "zeroOneKnap(W4, n4, wt4, vals4)"
   ]
  },
  {
   "cell_type": "code",
   "execution_count": 275,
   "id": "28e35f6a",
   "metadata": {},
   "outputs": [
    {
     "name": "stdout",
     "output_type": "stream",
     "text": [
      "We have 6 items\n"
     ]
    }
   ],
   "source": [
    "W5 = 20\n",
    "wt5 = [2, 4, 6, 8, 10, 12]\n",
    "vals5 = [5, 10, 1, 15, 20, 25]\n",
    "\n",
    "n5 = len(vals5)\n",
    "print('We have {} items'.format(n5))   "
   ]
  },
  {
   "cell_type": "code",
   "execution_count": 274,
   "id": "bd07122b",
   "metadata": {},
   "outputs": [
    {
     "name": "stdout",
     "output_type": "stream",
     "text": [
      "The maximum possible value for the knapsack acquired is \n"
     ]
    },
    {
     "data": {
      "text/plain": [
       "76"
      ]
     },
     "execution_count": 274,
     "metadata": {},
     "output_type": "execute_result"
    }
   ],
   "source": [
    "zeroOneKnap(W5, n5, wt5, vals5)"
   ]
  },
  {
   "cell_type": "code",
   "execution_count": 276,
   "id": "e79495c0",
   "metadata": {},
   "outputs": [
    {
     "name": "stdout",
     "output_type": "stream",
     "text": [
      "We have 6 items\n"
     ]
    }
   ],
   "source": [
    "W6 = 10\n",
    "wt6 = [1, 2, 3, 8, 7, 4]\n",
    "vals6 = [20, 5, 10, 40, 15, 25]\n",
    "\n",
    "n6 = len(vals6)\n",
    "print('We have {} items'.format(n6))  "
   ]
  },
  {
   "cell_type": "code",
   "execution_count": 277,
   "id": "97463a57",
   "metadata": {},
   "outputs": [
    {
     "name": "stdout",
     "output_type": "stream",
     "text": [
      "The maximum possible value for the knapsack acquired is \n"
     ]
    },
    {
     "data": {
      "text/plain": [
       "60"
      ]
     },
     "execution_count": 277,
     "metadata": {},
     "output_type": "execute_result"
    }
   ],
   "source": [
    "zeroOneKnap(W6, n6, wt6, vals6)"
   ]
  },
  {
   "cell_type": "markdown",
   "id": "emerging-green",
   "metadata": {},
   "source": [
    "***"
   ]
  },
  {
   "cell_type": "markdown",
   "id": "stainless-visitor",
   "metadata": {},
   "source": [
    "***"
   ]
  }
 ],
 "metadata": {
  "kernelspec": {
   "display_name": "Python 3 (ipykernel)",
   "language": "python",
   "name": "python3"
  },
  "language_info": {
   "codemirror_mode": {
    "name": "ipython",
    "version": 3
   },
   "file_extension": ".py",
   "mimetype": "text/x-python",
   "name": "python",
   "nbconvert_exporter": "python",
   "pygments_lexer": "ipython3",
   "version": "3.9.12"
  }
 },
 "nbformat": 4,
 "nbformat_minor": 5
}
